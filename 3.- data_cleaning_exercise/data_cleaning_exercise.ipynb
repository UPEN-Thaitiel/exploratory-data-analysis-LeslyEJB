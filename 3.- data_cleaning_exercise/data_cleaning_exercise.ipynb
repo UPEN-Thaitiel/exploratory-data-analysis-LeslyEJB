{
 "cells": [
  {
   "cell_type": "markdown",
   "id": "15ad4403",
   "metadata": {},
   "source": [
    "## Introduction to Pandas\n",
    "\n",
    "#### **Name:** <insert name>"
   ]
  },
  {
   "cell_type": "markdown",
   "id": "425ad2d0",
   "metadata": {},
   "source": [
    "#### Import Libraries"
   ]
  },
  {
   "cell_type": "code",
   "execution_count": 1,
   "id": "25eb7dc1",
   "metadata": {},
   "outputs": [],
   "source": [
    "import pandas as pd"
   ]
  },
  {
   "cell_type": "code",
   "execution_count": 3,
   "id": "2cb9142d",
   "metadata": {},
   "outputs": [],
   "source": [
    "import numpy as np"
   ]
  },
  {
   "cell_type": "markdown",
   "id": "68ee8d9d",
   "metadata": {},
   "source": [
    "#### Create the dataset"
   ]
  },
  {
   "cell_type": "code",
   "execution_count": 4,
   "id": "62694a6e",
   "metadata": {},
   "outputs": [],
   "source": [
    "data = {\n",
    "    \"Name\": [\"Alice\", \"Bob\", np.nan, \"David\"],\n",
    "    \"Age\": [25, np.nan, 30, 35],\n",
    "    \"Score\": [85, 90, np.nan, 88],\n",
    "}\n",
    "df = pd.DataFrame(data)"
   ]
  },
  {
   "cell_type": "markdown",
   "id": "f9114eca",
   "metadata": {},
   "source": [
    "#### Replace Age with mean"
   ]
  },
  {
   "cell_type": "code",
   "execution_count": 7,
   "id": "f7a7b6eb",
   "metadata": {},
   "outputs": [
    {
     "name": "stdout",
     "output_type": "stream",
     "text": [
      "<class 'pandas.core.frame.DataFrame'>\n",
      "RangeIndex: 4 entries, 0 to 3\n",
      "Data columns (total 3 columns):\n",
      " #   Column  Non-Null Count  Dtype  \n",
      "---  ------  --------------  -----  \n",
      " 0   Name    3 non-null      object \n",
      " 1   Age     4 non-null      float64\n",
      " 2   Score   3 non-null      float64\n",
      "dtypes: float64(2), object(1)\n",
      "memory usage: 228.0+ bytes\n"
     ]
    },
    {
     "data": {
      "text/plain": [
       "0    25.0\n",
       "1    30.0\n",
       "2    30.0\n",
       "3    35.0\n",
       "Name: Age, dtype: float64"
      ]
     },
     "execution_count": 7,
     "metadata": {},
     "output_type": "execute_result"
    }
   ],
   "source": [
    "df.info()\n",
    "df[\"Age\"] = df[\"Age\"].fillna(df[\"Age\"].median())\n",
    "df[\"Age\"]"
   ]
  },
  {
   "cell_type": "markdown",
   "id": "791ced04",
   "metadata": {},
   "source": [
    "#### Replace Score "
   ]
  },
  {
   "cell_type": "code",
   "execution_count": 8,
   "id": "cb3eabe5",
   "metadata": {},
   "outputs": [
    {
     "data": {
      "text/plain": [
       "0    85.0\n",
       "1    90.0\n",
       "2    88.0\n",
       "3    88.0\n",
       "Name: Score, dtype: float64"
      ]
     },
     "execution_count": 8,
     "metadata": {},
     "output_type": "execute_result"
    }
   ],
   "source": [
    "df[\"Score\"] = df[\"Score\"].fillna(round(df[\"Score\"].mean()))\n",
    "df[\"Score\"]"
   ]
  },
  {
   "cell_type": "markdown",
   "id": "ea959357",
   "metadata": {},
   "source": [
    "#### Rename Columns"
   ]
  },
  {
   "cell_type": "code",
   "execution_count": 9,
   "id": "6087d23b",
   "metadata": {},
   "outputs": [
    {
     "data": {
      "text/html": [
       "<div>\n",
       "<style scoped>\n",
       "    .dataframe tbody tr th:only-of-type {\n",
       "        vertical-align: middle;\n",
       "    }\n",
       "\n",
       "    .dataframe tbody tr th {\n",
       "        vertical-align: top;\n",
       "    }\n",
       "\n",
       "    .dataframe thead th {\n",
       "        text-align: right;\n",
       "    }\n",
       "</style>\n",
       "<table border=\"1\" class=\"dataframe\">\n",
       "  <thead>\n",
       "    <tr style=\"text-align: right;\">\n",
       "      <th></th>\n",
       "      <th>Student_Name</th>\n",
       "      <th>Age</th>\n",
       "      <th>Exam_Score</th>\n",
       "    </tr>\n",
       "  </thead>\n",
       "  <tbody>\n",
       "    <tr>\n",
       "      <th>0</th>\n",
       "      <td>Alice</td>\n",
       "      <td>25.0</td>\n",
       "      <td>85.0</td>\n",
       "    </tr>\n",
       "    <tr>\n",
       "      <th>1</th>\n",
       "      <td>Bob</td>\n",
       "      <td>30.0</td>\n",
       "      <td>90.0</td>\n",
       "    </tr>\n",
       "    <tr>\n",
       "      <th>2</th>\n",
       "      <td>NaN</td>\n",
       "      <td>30.0</td>\n",
       "      <td>88.0</td>\n",
       "    </tr>\n",
       "    <tr>\n",
       "      <th>3</th>\n",
       "      <td>David</td>\n",
       "      <td>35.0</td>\n",
       "      <td>88.0</td>\n",
       "    </tr>\n",
       "  </tbody>\n",
       "</table>\n",
       "</div>"
      ],
      "text/plain": [
       "  Student_Name   Age  Exam_Score\n",
       "0        Alice  25.0        85.0\n",
       "1          Bob  30.0        90.0\n",
       "2          NaN  30.0        88.0\n",
       "3        David  35.0        88.0"
      ]
     },
     "execution_count": 9,
     "metadata": {},
     "output_type": "execute_result"
    }
   ],
   "source": [
    "df = df.rename(columns={\"Name\":\"Student_Name\", \"Score\":\"Exam_Score\"})\n",
    "df"
   ]
  },
  {
   "cell_type": "markdown",
   "id": "2434035f",
   "metadata": {},
   "source": [
    "#### Concatenate Dataframes"
   ]
  },
  {
   "cell_type": "code",
   "execution_count": null,
   "id": "751beb15",
   "metadata": {},
   "outputs": [
    {
     "data": {
      "text/html": [
       "<div>\n",
       "<style scoped>\n",
       "    .dataframe tbody tr th:only-of-type {\n",
       "        vertical-align: middle;\n",
       "    }\n",
       "\n",
       "    .dataframe tbody tr th {\n",
       "        vertical-align: top;\n",
       "    }\n",
       "\n",
       "    .dataframe thead th {\n",
       "        text-align: right;\n",
       "    }\n",
       "</style>\n",
       "<table border=\"1\" class=\"dataframe\">\n",
       "  <thead>\n",
       "    <tr style=\"text-align: right;\">\n",
       "      <th></th>\n",
       "      <th>Class</th>\n",
       "      <th>Score</th>\n",
       "      <th>Age</th>\n",
       "    </tr>\n",
       "  </thead>\n",
       "  <tbody>\n",
       "    <tr>\n",
       "      <th>0</th>\n",
       "      <td>A</td>\n",
       "      <td>85</td>\n",
       "      <td>15</td>\n",
       "    </tr>\n",
       "    <tr>\n",
       "      <th>1</th>\n",
       "      <td>B</td>\n",
       "      <td>90</td>\n",
       "      <td>16</td>\n",
       "    </tr>\n",
       "    <tr>\n",
       "      <th>2</th>\n",
       "      <td>A</td>\n",
       "      <td>88</td>\n",
       "      <td>15</td>\n",
       "    </tr>\n",
       "    <tr>\n",
       "      <th>3</th>\n",
       "      <td>B</td>\n",
       "      <td>72</td>\n",
       "      <td>17</td>\n",
       "    </tr>\n",
       "    <tr>\n",
       "      <th>4</th>\n",
       "      <td>C</td>\n",
       "      <td>95</td>\n",
       "      <td>16</td>\n",
       "    </tr>\n",
       "    <tr>\n",
       "      <th>5</th>\n",
       "      <td>C</td>\n",
       "      <td>80</td>\n",
       "      <td>15</td>\n",
       "    </tr>\n",
       "    <tr>\n",
       "      <th>0</th>\n",
       "      <td>A</td>\n",
       "      <td>85</td>\n",
       "      <td>15</td>\n",
       "    </tr>\n",
       "    <tr>\n",
       "      <th>1</th>\n",
       "      <td>B</td>\n",
       "      <td>90</td>\n",
       "      <td>16</td>\n",
       "    </tr>\n",
       "    <tr>\n",
       "      <th>2</th>\n",
       "      <td>A</td>\n",
       "      <td>88</td>\n",
       "      <td>15</td>\n",
       "    </tr>\n",
       "    <tr>\n",
       "      <th>3</th>\n",
       "      <td>B</td>\n",
       "      <td>72</td>\n",
       "      <td>17</td>\n",
       "    </tr>\n",
       "    <tr>\n",
       "      <th>4</th>\n",
       "      <td>C</td>\n",
       "      <td>95</td>\n",
       "      <td>16</td>\n",
       "    </tr>\n",
       "    <tr>\n",
       "      <th>5</th>\n",
       "      <td>C</td>\n",
       "      <td>80</td>\n",
       "      <td>15</td>\n",
       "    </tr>\n",
       "  </tbody>\n",
       "</table>\n",
       "</div>"
      ],
      "text/plain": [
       "  Class  Score  Age\n",
       "0     A     85   15\n",
       "1     B     90   16\n",
       "2     A     88   15\n",
       "3     B     72   17\n",
       "4     C     95   16\n",
       "5     C     80   15\n",
       "0     A     85   15\n",
       "1     B     90   16\n",
       "2     A     88   15\n",
       "3     B     72   17\n",
       "4     C     95   16\n",
       "5     C     80   15"
      ]
     },
     "execution_count": 19,
     "metadata": {},
     "output_type": "execute_result"
    }
   ],
   "source": [
    "df_concat_self_vert = pd.concat([df, df]) #concanate in vertical\n",
    "df_concat_self_vert"
   ]
  },
  {
   "cell_type": "code",
   "execution_count": null,
   "id": "b2f440b1",
   "metadata": {},
   "outputs": [
    {
     "data": {
      "text/html": [
       "<div>\n",
       "<style scoped>\n",
       "    .dataframe tbody tr th:only-of-type {\n",
       "        vertical-align: middle;\n",
       "    }\n",
       "\n",
       "    .dataframe tbody tr th {\n",
       "        vertical-align: top;\n",
       "    }\n",
       "\n",
       "    .dataframe thead th {\n",
       "        text-align: right;\n",
       "    }\n",
       "</style>\n",
       "<table border=\"1\" class=\"dataframe\">\n",
       "  <thead>\n",
       "    <tr style=\"text-align: right;\">\n",
       "      <th></th>\n",
       "      <th>Class</th>\n",
       "      <th>Score</th>\n",
       "      <th>Age</th>\n",
       "      <th>Class</th>\n",
       "      <th>Score</th>\n",
       "      <th>Age</th>\n",
       "    </tr>\n",
       "  </thead>\n",
       "  <tbody>\n",
       "    <tr>\n",
       "      <th>0</th>\n",
       "      <td>A</td>\n",
       "      <td>85</td>\n",
       "      <td>15</td>\n",
       "      <td>A</td>\n",
       "      <td>85</td>\n",
       "      <td>15</td>\n",
       "    </tr>\n",
       "    <tr>\n",
       "      <th>1</th>\n",
       "      <td>B</td>\n",
       "      <td>90</td>\n",
       "      <td>16</td>\n",
       "      <td>B</td>\n",
       "      <td>90</td>\n",
       "      <td>16</td>\n",
       "    </tr>\n",
       "    <tr>\n",
       "      <th>2</th>\n",
       "      <td>A</td>\n",
       "      <td>88</td>\n",
       "      <td>15</td>\n",
       "      <td>A</td>\n",
       "      <td>88</td>\n",
       "      <td>15</td>\n",
       "    </tr>\n",
       "    <tr>\n",
       "      <th>3</th>\n",
       "      <td>B</td>\n",
       "      <td>72</td>\n",
       "      <td>17</td>\n",
       "      <td>B</td>\n",
       "      <td>72</td>\n",
       "      <td>17</td>\n",
       "    </tr>\n",
       "    <tr>\n",
       "      <th>4</th>\n",
       "      <td>C</td>\n",
       "      <td>95</td>\n",
       "      <td>16</td>\n",
       "      <td>C</td>\n",
       "      <td>95</td>\n",
       "      <td>16</td>\n",
       "    </tr>\n",
       "    <tr>\n",
       "      <th>5</th>\n",
       "      <td>C</td>\n",
       "      <td>80</td>\n",
       "      <td>15</td>\n",
       "      <td>C</td>\n",
       "      <td>80</td>\n",
       "      <td>15</td>\n",
       "    </tr>\n",
       "  </tbody>\n",
       "</table>\n",
       "</div>"
      ],
      "text/plain": [
       "  Class  Score  Age Class  Score  Age\n",
       "0     A     85   15     A     85   15\n",
       "1     B     90   16     B     90   16\n",
       "2     A     88   15     A     88   15\n",
       "3     B     72   17     B     72   17\n",
       "4     C     95   16     C     95   16\n",
       "5     C     80   15     C     80   15"
      ]
     },
     "execution_count": 20,
     "metadata": {},
     "output_type": "execute_result"
    }
   ],
   "source": [
    "df_concat_self_hori = pd.concat([df, df], axis=1) #concanate in horizontal\n",
    "df_concat_self_hori"
   ]
  },
  {
   "cell_type": "markdown",
   "id": "40747806",
   "metadata": {},
   "source": [
    "#### Grouping Data by Categories"
   ]
  },
  {
   "cell_type": "code",
   "execution_count": 21,
   "id": "a86187f8",
   "metadata": {},
   "outputs": [],
   "source": [
    "data = {\n",
    "    \"Class\": [\"A\", \"B\", \"A\", \"B\", \"C\", \"C\"],\n",
    "    \"Score\": [85, 90, 88, 72, 95, 80],\n",
    "    \"Age\": [15, 16, 15, 17, 16, 15],\n",
    "}\n",
    "df2 = pd.DataFrame(data)\n"
   ]
  },
  {
   "cell_type": "code",
   "execution_count": 22,
   "id": "efdf1a47",
   "metadata": {},
   "outputs": [
    {
     "data": {
      "text/html": [
       "<div>\n",
       "<style scoped>\n",
       "    .dataframe tbody tr th:only-of-type {\n",
       "        vertical-align: middle;\n",
       "    }\n",
       "\n",
       "    .dataframe tbody tr th {\n",
       "        vertical-align: top;\n",
       "    }\n",
       "\n",
       "    .dataframe thead th {\n",
       "        text-align: right;\n",
       "    }\n",
       "</style>\n",
       "<table border=\"1\" class=\"dataframe\">\n",
       "  <thead>\n",
       "    <tr style=\"text-align: right;\">\n",
       "      <th></th>\n",
       "      <th>Score</th>\n",
       "      <th>Age</th>\n",
       "    </tr>\n",
       "    <tr>\n",
       "      <th>Class</th>\n",
       "      <th></th>\n",
       "      <th></th>\n",
       "    </tr>\n",
       "  </thead>\n",
       "  <tbody>\n",
       "    <tr>\n",
       "      <th>A</th>\n",
       "      <td>86.5</td>\n",
       "      <td>15.0</td>\n",
       "    </tr>\n",
       "    <tr>\n",
       "      <th>B</th>\n",
       "      <td>81.0</td>\n",
       "      <td>16.5</td>\n",
       "    </tr>\n",
       "    <tr>\n",
       "      <th>C</th>\n",
       "      <td>87.5</td>\n",
       "      <td>15.5</td>\n",
       "    </tr>\n",
       "  </tbody>\n",
       "</table>\n",
       "</div>"
      ],
      "text/plain": [
       "       Score   Age\n",
       "Class             \n",
       "A       86.5  15.0\n",
       "B       81.0  16.5\n",
       "C       87.5  15.5"
      ]
     },
     "execution_count": 22,
     "metadata": {},
     "output_type": "execute_result"
    }
   ],
   "source": [
    "df2.groupby(\"Class\").mean()"
   ]
  }
 ],
 "metadata": {
  "kernelspec": {
   "display_name": "Python 3",
   "language": "python",
   "name": "python3"
  },
  "language_info": {
   "codemirror_mode": {
    "name": "ipython",
    "version": 3
   },
   "file_extension": ".py",
   "mimetype": "text/x-python",
   "name": "python",
   "nbconvert_exporter": "python",
   "pygments_lexer": "ipython3",
   "version": "3.13.2"
  }
 },
 "nbformat": 4,
 "nbformat_minor": 5
}
